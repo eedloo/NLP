{
 "cells": [
  {
   "cell_type": "code",
   "execution_count": 1,
   "metadata": {},
   "outputs": [],
   "source": [
    "import numpy as np\n",
    "import pandas as pd"
   ]
  },
  {
   "cell_type": "code",
   "execution_count": 2,
   "metadata": {},
   "outputs": [
    {
     "name": "stdout",
     "output_type": "stream",
     "text": [
      "48\n"
     ]
    }
   ],
   "source": [
    "chars = ' !\"\\'(),-.0123456789:;?abcdefghijklmnopqrstuvwxyz'\n",
    "chars_list = [*chars]\n",
    "print(len(chars_list))"
   ]
  },
  {
   "cell_type": "code",
   "execution_count": 3,
   "metadata": {},
   "outputs": [],
   "source": [
    "# Interpolate probabilities of each characters\n",
    "# Lambdas equaly likely\n",
    "\n",
    "def interpolation(probs_dic):\n",
    "    chars_probs = {}\n",
    "    for i in probs_dic.keys():\n",
    "        if len(probs_dic[i]) > 0:\n",
    "            char_prob = (1/len(probs_dic[i]))*sum(list(probs_dic[i].values()))\n",
    "            chars_probs[i] = char_prob\n",
    "        else:\n",
    "            chars_probs[i] = 0\n",
    "    return chars_probs"
   ]
  },
  {
   "cell_type": "code",
   "execution_count": 4,
   "metadata": {},
   "outputs": [],
   "source": [
    "# Interpolate probabilities of each characters\n",
    "# Lambdas uneven\n",
    "# I have tried many combinations and this one had the best result\n",
    "# Although its not optimum for sure\n",
    "\n",
    "def interpolation2(probs_dic):\n",
    "  lambda5 = 0.95\n",
    "  lambda4 = 0.03\n",
    "  lambda3 = 0.01\n",
    "  lambda2 = 0.005\n",
    "  lambda1 = 0.005\n",
    "  chars_probs = {}\n",
    "  for i in probs_dic.keys():\n",
    "    chars_probs[i] = lambda5*probs_dic[i][5] + lambda4*probs_dic[i][4] + lambda3*probs_dic[i][3] + lambda2*probs_dic[i][2] + lambda1*probs_dic[i][1]\n",
    "  return chars_probs"
   ]
  },
  {
   "cell_type": "code",
   "execution_count": 5,
   "metadata": {},
   "outputs": [],
   "source": [
    "# Normalize interpolated probabilities of each character; sum to 1\n",
    "\n",
    "def softmax(chars_probs):\n",
    "    probs_sum = sum(list(chars_probs.values()))\n",
    "    return {key: value / probs_sum for key, value in chars_probs.items()}"
   ]
  },
  {
   "cell_type": "code",
   "execution_count": 15,
   "metadata": {},
   "outputs": [],
   "source": [
    "# input: gram_degree, vocabulary (48 ASCII characters as string), train and test data\n",
    "# output: loss\n",
    "\n",
    "def from_scratch(gram_degree, chars_list, train, test):\n",
    "    start = 0\n",
    "    end = gram_degree\n",
    "    loss = 0\n",
    "    counter = 0\n",
    "    len_train = len(train)\n",
    "    for i in range(len(test) - end + 1):\n",
    "        pattern = test[start:end]\n",
    "        start += 1\n",
    "        end += 1\n",
    "        counter += 1\n",
    "        ch_probs_dic = {}\n",
    "        for j in range(len(chars_list)):\n",
    "            ch = chars_list[j]\n",
    "            token = pattern[:-1] + ch\n",
    "            len_token = len(token)\n",
    "            probs_dict = {}\n",
    "            for k in range(len(token)):\n",
    "                c = train.count(token[k:])\n",
    "                if k < len_token - 1:\n",
    "                    prob = (c+1) / (train.count(token[k:-1])+1)\n",
    "                if k == len_token - 1:\n",
    "                    prob = (c+1) / (len_train+48)\n",
    "                probs_dict[len_token-k] = prob\n",
    "            ch_probs_dic[ch] = probs_dict\n",
    "        ch_probs_sfx = softmax(interpolation2(ch_probs_dic))\n",
    "        loss -= np.log2(ch_probs_sfx[pattern[-1]])\n",
    "    return loss/counter        "
   ]
  },
  {
   "cell_type": "code",
   "execution_count": 41,
   "metadata": {},
   "outputs": [],
   "source": [
    "# input: gram_degree, vocabulary (48 ASCII characters as string), train and test data\n",
    "# output: loss\n",
    "# without interpolation\n",
    "\n",
    "def from_scratch_2(gram_degree, chars_list, train, test):\n",
    "    start = 0\n",
    "    end = gram_degree\n",
    "    loss = 0\n",
    "    counter = 0\n",
    "    len_train = len(train)\n",
    "    for i in range(len(test) - end + 1):\n",
    "        pattern = test[start:end]\n",
    "        start += 1\n",
    "        end += 1\n",
    "        counter += 1\n",
    "        ch_probs_dic = {}\n",
    "        for j in range(len(chars_list)):\n",
    "            ch = chars_list[j]\n",
    "            token = pattern[:-1] + ch\n",
    "            len_token = len(token)\n",
    "            probs_dict = {}\n",
    "            for k in range(len_token):\n",
    "                c = train.count(token[k:])\n",
    "                if (c>0) and (k < len_token - 1):\n",
    "                    prob = c / train.count(token[k:-1])\n",
    "                    break\n",
    "                elif (c>0) and (k == len_token - 1):\n",
    "                    prob = c / len_train\n",
    "                else:\n",
    "                    pass\n",
    "            ch_probs_dic[ch] = prob\n",
    "        ch_probs_sfx = softmax(ch_probs_dic)\n",
    "        loss -= np.log2(ch_probs_sfx[pattern[-1]])\n",
    "    return loss/counter     "
   ]
  },
  {
   "cell_type": "code",
   "execution_count": 6,
   "metadata": {},
   "outputs": [],
   "source": [
    "with open(r\"D:\\SLU\\AI MSc\\Fall 22\\NLP\\Project 4\\cwe-train.txt\", 'r') as f:\n",
    "    train = f.readlines()\n",
    "with open(r\"D:\\SLU\\AI MSc\\Fall 22\\NLP\\Project 4\\cwe-test.txt\", 'r') as f:\n",
    "    test = f.readlines()"
   ]
  },
  {
   "cell_type": "code",
   "execution_count": 7,
   "metadata": {},
   "outputs": [
    {
     "name": "stdout",
     "output_type": "stream",
     "text": [
      "603432\n",
      "61717\n"
     ]
    }
   ],
   "source": [
    "train = train[0]\n",
    "test = test[0]\n",
    "print(len(train))\n",
    "print(len(test))"
   ]
  },
  {
   "cell_type": "code",
   "execution_count": 39,
   "metadata": {},
   "outputs": [
    {
     "data": {
      "text/plain": [
       "1.5352314885678935"
      ]
     },
     "execution_count": 39,
     "metadata": {},
     "output_type": "execute_result"
    }
   ],
   "source": [
    "from_scratch(5, chars_list, train, test[:30])"
   ]
  },
  {
   "cell_type": "code",
   "execution_count": 42,
   "metadata": {},
   "outputs": [
    {
     "data": {
      "text/plain": [
       "2.087423659118948"
      ]
     },
     "execution_count": 42,
     "metadata": {},
     "output_type": "execute_result"
    }
   ],
   "source": [
    "# without interpolation\n",
    "# faster\n",
    "\n",
    "from_scratch_2(5, chars_list, train, test[:30])"
   ]
  },
  {
   "cell_type": "code",
   "execution_count": null,
   "metadata": {},
   "outputs": [],
   "source": []
  },
  {
   "cell_type": "code",
   "execution_count": null,
   "metadata": {},
   "outputs": [],
   "source": []
  },
  {
   "cell_type": "code",
   "execution_count": null,
   "metadata": {},
   "outputs": [],
   "source": []
  }
 ],
 "metadata": {
  "kernelspec": {
   "display_name": "Python 3.9.7 ('base')",
   "language": "python",
   "name": "python3"
  },
  "language_info": {
   "codemirror_mode": {
    "name": "ipython",
    "version": 3
   },
   "file_extension": ".py",
   "mimetype": "text/x-python",
   "name": "python",
   "nbconvert_exporter": "python",
   "pygments_lexer": "ipython3",
   "version": "3.9.7"
  },
  "orig_nbformat": 4,
  "vscode": {
   "interpreter": {
    "hash": "9886d89d00ab45e82c8ee75015344ff9f539db9369165debfcbb1d4785acc62d"
   }
  }
 },
 "nbformat": 4,
 "nbformat_minor": 2
}
