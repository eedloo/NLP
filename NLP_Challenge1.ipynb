{
 "cells": [
  {
   "cell_type": "code",
   "execution_count": 2,
   "id": "71d74325",
   "metadata": {},
   "outputs": [
    {
     "data": {
      "text/html": [
       "<div>\n",
       "<style scoped>\n",
       "    .dataframe tbody tr th:only-of-type {\n",
       "        vertical-align: middle;\n",
       "    }\n",
       "\n",
       "    .dataframe tbody tr th {\n",
       "        vertical-align: top;\n",
       "    }\n",
       "\n",
       "    .dataframe thead th {\n",
       "        text-align: right;\n",
       "    }\n",
       "</style>\n",
       "<table border=\"1\" class=\"dataframe\">\n",
       "  <thead>\n",
       "    <tr style=\"text-align: right;\">\n",
       "      <th></th>\n",
       "      <th>label</th>\n",
       "      <th>tweet</th>\n",
       "    </tr>\n",
       "  </thead>\n",
       "  <tbody>\n",
       "    <tr>\n",
       "      <th>0</th>\n",
       "      <td>0</td>\n",
       "      <td>@USER @USER a sicrhau bod mwy o arian poced 'd...</td>\n",
       "    </tr>\n",
       "    <tr>\n",
       "      <th>1</th>\n",
       "      <td>1</td>\n",
       "      <td>Parti Dolig da gyda tim swyddfa canolog @USER ...</td>\n",
       "    </tr>\n",
       "    <tr>\n",
       "      <th>2</th>\n",
       "      <td>0</td>\n",
       "      <td>@USER yeaah ma fe yn wir. ( oh well.</td>\n",
       "    </tr>\n",
       "    <tr>\n",
       "      <th>3</th>\n",
       "      <td>1</td>\n",
       "      <td>@USER hahaha idk. 3am oedd y bws ti?</td>\n",
       "    </tr>\n",
       "    <tr>\n",
       "      <th>4</th>\n",
       "      <td>0</td>\n",
       "      <td>@USER dwim yn gal llun ohoni?</td>\n",
       "    </tr>\n",
       "  </tbody>\n",
       "</table>\n",
       "</div>"
      ],
      "text/plain": [
       "   label                                              tweet\n",
       "0      0  @USER @USER a sicrhau bod mwy o arian poced 'd...\n",
       "1      1  Parti Dolig da gyda tim swyddfa canolog @USER ...\n",
       "2      0               @USER yeaah ma fe yn wir. ( oh well.\n",
       "3      1               @USER hahaha idk. 3am oedd y bws ti?\n",
       "4      0                      @USER dwim yn gal llun ohoni?"
      ]
     },
     "execution_count": 2,
     "metadata": {},
     "output_type": "execute_result"
    }
   ],
   "source": [
    "import pandas as pd\n",
    "import numpy as np\n",
    "import random\n",
    "import csv\n",
    "raw_data = pd.read_csv('train-v2.tsv', sep=\"\\t\", header=None, quoting = csv.QUOTE_NONE)\n",
    "raw_data.columns = ['label', 'tweet']\n",
    "raw_data = raw_data[pd.notnull(raw_data['tweet'])]\n",
    "raw_data.head()"
   ]
  },
  {
   "cell_type": "code",
   "execution_count": 3,
   "id": "3252da7c",
   "metadata": {},
   "outputs": [
    {
     "name": "stdout",
     "output_type": "stream",
     "text": [
      "(80000, 2)\n"
     ]
    },
    {
     "data": {
      "text/html": [
       "<div>\n",
       "<style scoped>\n",
       "    .dataframe tbody tr th:only-of-type {\n",
       "        vertical-align: middle;\n",
       "    }\n",
       "\n",
       "    .dataframe tbody tr th {\n",
       "        vertical-align: top;\n",
       "    }\n",
       "\n",
       "    .dataframe thead th {\n",
       "        text-align: right;\n",
       "    }\n",
       "</style>\n",
       "<table border=\"1\" class=\"dataframe\">\n",
       "  <thead>\n",
       "    <tr style=\"text-align: right;\">\n",
       "      <th></th>\n",
       "      <th>label</th>\n",
       "      <th>tweet</th>\n",
       "    </tr>\n",
       "  </thead>\n",
       "  <tbody>\n",
       "    <tr>\n",
       "      <th>0</th>\n",
       "      <td>0</td>\n",
       "      <td>@USER @USER a sicrhau bod mwy o arian poced 'd...</td>\n",
       "    </tr>\n",
       "    <tr>\n",
       "      <th>1</th>\n",
       "      <td>1</td>\n",
       "      <td>Parti Dolig da gyda tim swyddfa canolog @USER ...</td>\n",
       "    </tr>\n",
       "    <tr>\n",
       "      <th>2</th>\n",
       "      <td>0</td>\n",
       "      <td>@USER yeaah ma fe yn wir. ( oh well.</td>\n",
       "    </tr>\n",
       "    <tr>\n",
       "      <th>3</th>\n",
       "      <td>1</td>\n",
       "      <td>@USER hahaha idk. 3am oedd y bws ti?</td>\n",
       "    </tr>\n",
       "    <tr>\n",
       "      <th>4</th>\n",
       "      <td>0</td>\n",
       "      <td>@USER dwim yn gal llun ohoni?</td>\n",
       "    </tr>\n",
       "    <tr>\n",
       "      <th>...</th>\n",
       "      <td>...</td>\n",
       "      <td>...</td>\n",
       "    </tr>\n",
       "    <tr>\n",
       "      <th>95</th>\n",
       "      <td>1</td>\n",
       "      <td>Mae ein ceidwad Jim wedi cymryd lluniau hyfryd...</td>\n",
       "    </tr>\n",
       "    <tr>\n",
       "      <th>96</th>\n",
       "      <td>0</td>\n",
       "      <td>Amserlen @USER a'r plant heddiw:@USER (sesiwn ...</td>\n",
       "    </tr>\n",
       "    <tr>\n",
       "      <th>97</th>\n",
       "      <td>1</td>\n",
       "      <td>@USER dim problem. Diolch am y gusan Aled</td>\n",
       "    </tr>\n",
       "    <tr>\n",
       "      <th>98</th>\n",
       "      <td>1</td>\n",
       "      <td>@USER Ffab. Gweld ti prawn Dydd Sul y 20th de ...</td>\n",
       "    </tr>\n",
       "    <tr>\n",
       "      <th>99</th>\n",
       "      <td>1</td>\n",
       "      <td>@USER dere flatout! Fi wedi coolo lawr lot yn ...</td>\n",
       "    </tr>\n",
       "  </tbody>\n",
       "</table>\n",
       "<p>100 rows × 2 columns</p>\n",
       "</div>"
      ],
      "text/plain": [
       "    label                                              tweet\n",
       "0       0  @USER @USER a sicrhau bod mwy o arian poced 'd...\n",
       "1       1  Parti Dolig da gyda tim swyddfa canolog @USER ...\n",
       "2       0               @USER yeaah ma fe yn wir. ( oh well.\n",
       "3       1               @USER hahaha idk. 3am oedd y bws ti?\n",
       "4       0                      @USER dwim yn gal llun ohoni?\n",
       "..    ...                                                ...\n",
       "95      1  Mae ein ceidwad Jim wedi cymryd lluniau hyfryd...\n",
       "96      0  Amserlen @USER a'r plant heddiw:@USER (sesiwn ...\n",
       "97      1          @USER dim problem. Diolch am y gusan Aled\n",
       "98      1  @USER Ffab. Gweld ti prawn Dydd Sul y 20th de ...\n",
       "99      1  @USER dere flatout! Fi wedi coolo lawr lot yn ...\n",
       "\n",
       "[100 rows x 2 columns]"
      ]
     },
     "execution_count": 3,
     "metadata": {},
     "output_type": "execute_result"
    }
   ],
   "source": [
    "print(raw_data.shape)\n",
    "raw_data.head(100)"
   ]
  },
  {
   "cell_type": "code",
   "execution_count": 4,
   "id": "dc85c637",
   "metadata": {},
   "outputs": [
    {
     "name": "stdout",
     "output_type": "stream",
     "text": [
      "39981\n",
      "40019\n"
     ]
    }
   ],
   "source": [
    "# Appears to be an almost perfectly balanced dataset.  Our \"priors\" are 50/50\n",
    "print(raw_data[raw_data['label']==0].shape[0])\n",
    "print(raw_data[raw_data['label']==1].shape[0])"
   ]
  },
  {
   "cell_type": "code",
   "execution_count": 5,
   "id": "f27e5dbc",
   "metadata": {},
   "outputs": [],
   "source": [
    "# Hold back training data\n",
    "training_data = raw_data.sample(frac=0.8)\n",
    "testing_data = raw_data.drop(training_data.index)"
   ]
  },
  {
   "cell_type": "code",
   "execution_count": 6,
   "id": "0c213d35",
   "metadata": {},
   "outputs": [
    {
     "name": "stdout",
     "output_type": "stream",
     "text": [
      "(64000, 2)\n",
      "(16000, 2)\n"
     ]
    }
   ],
   "source": [
    "print(training_data.shape)\n",
    "print(testing_data.shape)"
   ]
  },
  {
   "cell_type": "code",
   "execution_count": 7,
   "id": "90c82f47",
   "metadata": {},
   "outputs": [],
   "source": [
    "# Separate training data into positive and negative datasets for simplicity\n",
    "training_data_pos = training_data[training_data['label']==1]\n",
    "training_data_neg = training_data[training_data['label']==0]"
   ]
  },
  {
   "cell_type": "code",
   "execution_count": 8,
   "id": "391fd387",
   "metadata": {},
   "outputs": [
    {
     "name": "stdout",
     "output_type": "stream",
     "text": [
      "(32010, 2)\n",
      "(31990, 2)\n"
     ]
    }
   ],
   "source": [
    "print(training_data_neg.shape)\n",
    "print(training_data_pos.shape)"
   ]
  },
  {
   "cell_type": "code",
   "execution_count": 9,
   "id": "552b5a50",
   "metadata": {},
   "outputs": [
    {
     "data": {
      "text/plain": [
       "<bound method NDFrame.head of        label                                              tweet\n",
       "3654       0  @USER ffaaaaac, sa waeth sa ti'n Mumbai na Gae...\n",
       "54772      0          @USER ie Capel Mydroilyn! Hollol gutted!!\n",
       "78186      0  @USER onin crio borama cys oddon brifo gymaint...\n",
       "29490      0  @USER weeel dwin gwithio bob nos o nos fercher...\n",
       "70375      0  Newyddion trist iawn am farwolaeth Rowena Kincaid\n",
       "...      ...                                                ...\n",
       "65093      0  @USER O.N. sori am beidio dod neithiwr - gum i...\n",
       "10562      0  @USER paid a trio gwadu'r peth. \"O na fy chino...\n",
       "77460      0  ffiseg mor anodd pam nesi gymud ooo #bringondaU 👎\n",
       "71776      0                      Llawn annwyd heddiw . #bleugh\n",
       "40342      0  @USER na, dwi am ffonior hen leri wan i nol fi ((\n",
       "\n",
       "[32010 rows x 2 columns]>"
      ]
     },
     "execution_count": 9,
     "metadata": {},
     "output_type": "execute_result"
    }
   ],
   "source": [
    "training_data_neg.head"
   ]
  },
  {
   "cell_type": "code",
   "execution_count": 10,
   "id": "14650500",
   "metadata": {},
   "outputs": [
    {
     "data": {
      "text/plain": [
       "<bound method NDFrame.head of        label                                              tweet\n",
       "38925      1  @USER oooh gobitho bydd e;n gallu trefnu rhywb...\n",
       "35686      1  @USER ia heddiw , dwi angan gwbod numbers so t...\n",
       "50069      1  @USER oooh man! I thought odd da fi fe! Falle ...\n",
       "43215      1  @USER haha snap, excuse ydi mai'n ddolig! doli...\n",
       "9845       1  Lyfli chat da @USER ar y ffon! Weve doneee it ...\n",
       "...      ...                                                ...\n",
       "30309      1      YES!!!!! Cymru di curo 27-13 Proud o nhw xxxx\n",
       "31448      1  @USER Eitha genfigenus mai rhan o job ti yw gw...\n",
       "19207      1  Waw! Mae tywydd yn braf heddiw! Diolch am ein ...\n",
       "49636      1  @USER @USER Waw.... Interflora!!! Da wan @USER...\n",
       "53718      1  @USER ma \"J\" yn y wyddor ma nhw'n dysgu yn ysg...\n",
       "\n",
       "[31990 rows x 2 columns]>"
      ]
     },
     "execution_count": 10,
     "metadata": {},
     "output_type": "execute_result"
    }
   ],
   "source": [
    "training_data_pos.head"
   ]
  },
  {
   "cell_type": "code",
   "execution_count": 11,
   "id": "e393d092",
   "metadata": {},
   "outputs": [],
   "source": [
    "# We need to calculate/generate the following:\n",
    "# Number of unique words in positive tweets\n",
    "# Number of unique words in negative tweets\n",
    "\n",
    "# We could make a dictionary of unique words as keys, values as number of times the word appears"
   ]
  },
  {
   "cell_type": "code",
   "execution_count": 12,
   "id": "f7eb99d4",
   "metadata": {},
   "outputs": [],
   "source": [
    "uniquePositiveWords={}\n",
    "uniqueNegativeWords={}"
   ]
  },
  {
   "cell_type": "code",
   "execution_count": 13,
   "id": "9dcf0392",
   "metadata": {},
   "outputs": [],
   "source": [
    "for tweet in range(len(training_data_pos)):\n",
    "    currentTweet=training_data_pos.iloc[tweet]['tweet'].split()\n",
    "    for word in currentTweet:\n",
    "        if word in uniquePositiveWords:\n",
    "            uniquePositiveWords[word]+=1\n",
    "        else:\n",
    "            uniquePositiveWords[word]=1\n",
    "for tweet in range(len(training_data_neg)):\n",
    "    currentTweet=training_data_neg.iloc[tweet]['tweet'].split()\n",
    "    for word in currentTweet:\n",
    "        if word in uniqueNegativeWords:\n",
    "            uniqueNegativeWords[word]+=1\n",
    "        else:\n",
    "            uniqueNegativeWords[word]=1"
   ]
  },
  {
   "cell_type": "code",
   "execution_count": 14,
   "id": "e14e9053",
   "metadata": {},
   "outputs": [
    {
     "name": "stdout",
     "output_type": "stream",
     "text": [
      "69400\n",
      "67033\n"
     ]
    }
   ],
   "source": [
    "numUniquePositiveWords=len(uniquePositiveWords)\n",
    "numUniqueNegativeWords=len(uniqueNegativeWords)\n",
    "print(numUniquePositiveWords)\n",
    "print(numUniqueNegativeWords)"
   ]
  },
  {
   "cell_type": "code",
   "execution_count": null,
   "id": "25ddf3f9",
   "metadata": {},
   "outputs": [],
   "source": []
  },
  {
   "cell_type": "code",
   "execution_count": null,
   "id": "1dbc1934",
   "metadata": {},
   "outputs": [],
   "source": []
  }
 ],
 "metadata": {
  "kernelspec": {
   "display_name": "Python 3 (ipykernel)",
   "language": "python",
   "name": "python3"
  },
  "language_info": {
   "codemirror_mode": {
    "name": "ipython",
    "version": 3
   },
   "file_extension": ".py",
   "mimetype": "text/x-python",
   "name": "python",
   "nbconvert_exporter": "python",
   "pygments_lexer": "ipython3",
   "version": "3.9.12"
  }
 },
 "nbformat": 4,
 "nbformat_minor": 5
}
