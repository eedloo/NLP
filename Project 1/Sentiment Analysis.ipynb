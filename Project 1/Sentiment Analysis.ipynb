{
 "cells": [
  {
   "cell_type": "code",
   "execution_count": 1,
   "metadata": {},
   "outputs": [],
   "source": [
    "import numpy as np\n",
    "import pandas as pd\n",
    "import csv"
   ]
  },
  {
   "cell_type": "code",
   "execution_count": 2,
   "metadata": {},
   "outputs": [
    {
     "data": {
      "text/html": [
       "<div>\n",
       "<style scoped>\n",
       "    .dataframe tbody tr th:only-of-type {\n",
       "        vertical-align: middle;\n",
       "    }\n",
       "\n",
       "    .dataframe tbody tr th {\n",
       "        vertical-align: top;\n",
       "    }\n",
       "\n",
       "    .dataframe thead th {\n",
       "        text-align: right;\n",
       "    }\n",
       "</style>\n",
       "<table border=\"1\" class=\"dataframe\">\n",
       "  <thead>\n",
       "    <tr style=\"text-align: right;\">\n",
       "      <th></th>\n",
       "      <th>0</th>\n",
       "      <th>1</th>\n",
       "    </tr>\n",
       "  </thead>\n",
       "  <tbody>\n",
       "    <tr>\n",
       "      <th>0</th>\n",
       "      <td>0</td>\n",
       "      <td>@USER @USER a sicrhau bod mwy o arian poced 'd...</td>\n",
       "    </tr>\n",
       "    <tr>\n",
       "      <th>1</th>\n",
       "      <td>1</td>\n",
       "      <td>Parti Dolig da gyda tim swyddfa canolog @USER ...</td>\n",
       "    </tr>\n",
       "    <tr>\n",
       "      <th>2</th>\n",
       "      <td>0</td>\n",
       "      <td>@USER yeaah ma fe yn wir. ( oh well.</td>\n",
       "    </tr>\n",
       "    <tr>\n",
       "      <th>3</th>\n",
       "      <td>1</td>\n",
       "      <td>@USER hahaha idk. 3am oedd y bws ti?</td>\n",
       "    </tr>\n",
       "    <tr>\n",
       "      <th>4</th>\n",
       "      <td>0</td>\n",
       "      <td>@USER dwim yn gal llun ohoni?</td>\n",
       "    </tr>\n",
       "  </tbody>\n",
       "</table>\n",
       "</div>"
      ],
      "text/plain": [
       "   0                                                  1\n",
       "0  0  @USER @USER a sicrhau bod mwy o arian poced 'd...\n",
       "1  1  Parti Dolig da gyda tim swyddfa canolog @USER ...\n",
       "2  0               @USER yeaah ma fe yn wir. ( oh well.\n",
       "3  1               @USER hahaha idk. 3am oedd y bws ti?\n",
       "4  0                      @USER dwim yn gal llun ohoni?"
      ]
     },
     "execution_count": 2,
     "metadata": {},
     "output_type": "execute_result"
    }
   ],
   "source": [
    "# Load data and inspection\n",
    "\n",
    "df = pd.read_csv(r\"D:\\SLU\\AI MSc\\Fall 22\\NLP\\train-v2.tsv\", sep=\"\\t\", header=None, quoting = csv.QUOTE_NONE)\n",
    "df.head()"
   ]
  },
  {
   "cell_type": "code",
   "execution_count": 3,
   "metadata": {},
   "outputs": [
    {
     "data": {
      "text/html": [
       "<div>\n",
       "<style scoped>\n",
       "    .dataframe tbody tr th:only-of-type {\n",
       "        vertical-align: middle;\n",
       "    }\n",
       "\n",
       "    .dataframe tbody tr th {\n",
       "        vertical-align: top;\n",
       "    }\n",
       "\n",
       "    .dataframe thead th {\n",
       "        text-align: right;\n",
       "    }\n",
       "</style>\n",
       "<table border=\"1\" class=\"dataframe\">\n",
       "  <thead>\n",
       "    <tr style=\"text-align: right;\">\n",
       "      <th></th>\n",
       "      <th>Class</th>\n",
       "      <th>Document</th>\n",
       "    </tr>\n",
       "  </thead>\n",
       "  <tbody>\n",
       "    <tr>\n",
       "      <th>0</th>\n",
       "      <td>0</td>\n",
       "      <td>@USER @USER a sicrhau bod mwy o arian poced 'd...</td>\n",
       "    </tr>\n",
       "    <tr>\n",
       "      <th>1</th>\n",
       "      <td>1</td>\n",
       "      <td>Parti Dolig da gyda tim swyddfa canolog @USER ...</td>\n",
       "    </tr>\n",
       "    <tr>\n",
       "      <th>2</th>\n",
       "      <td>0</td>\n",
       "      <td>@USER yeaah ma fe yn wir. ( oh well.</td>\n",
       "    </tr>\n",
       "    <tr>\n",
       "      <th>3</th>\n",
       "      <td>1</td>\n",
       "      <td>@USER hahaha idk. 3am oedd y bws ti?</td>\n",
       "    </tr>\n",
       "    <tr>\n",
       "      <th>4</th>\n",
       "      <td>0</td>\n",
       "      <td>@USER dwim yn gal llun ohoni?</td>\n",
       "    </tr>\n",
       "  </tbody>\n",
       "</table>\n",
       "</div>"
      ],
      "text/plain": [
       "   Class                                           Document\n",
       "0      0  @USER @USER a sicrhau bod mwy o arian poced 'd...\n",
       "1      1  Parti Dolig da gyda tim swyddfa canolog @USER ...\n",
       "2      0               @USER yeaah ma fe yn wir. ( oh well.\n",
       "3      1               @USER hahaha idk. 3am oedd y bws ti?\n",
       "4      0                      @USER dwim yn gal llun ohoni?"
      ]
     },
     "execution_count": 3,
     "metadata": {},
     "output_type": "execute_result"
    }
   ],
   "source": [
    "# Rename columns\n",
    "\n",
    "df.rename(columns={0:\"Class\", 1:\"Document\"}, inplace=True)\n",
    "df.head()"
   ]
  },
  {
   "cell_type": "code",
   "execution_count": 4,
   "metadata": {},
   "outputs": [
    {
     "data": {
      "text/html": [
       "<div>\n",
       "<style scoped>\n",
       "    .dataframe tbody tr th:only-of-type {\n",
       "        vertical-align: middle;\n",
       "    }\n",
       "\n",
       "    .dataframe tbody tr th {\n",
       "        vertical-align: top;\n",
       "    }\n",
       "\n",
       "    .dataframe thead th {\n",
       "        text-align: right;\n",
       "    }\n",
       "</style>\n",
       "<table border=\"1\" class=\"dataframe\">\n",
       "  <thead>\n",
       "    <tr style=\"text-align: right;\">\n",
       "      <th></th>\n",
       "      <th>Class</th>\n",
       "      <th>Document</th>\n",
       "      <th>Sad_emoji</th>\n",
       "      <th>Happy_emoji</th>\n",
       "    </tr>\n",
       "  </thead>\n",
       "  <tbody>\n",
       "    <tr>\n",
       "      <th>0</th>\n",
       "      <td>0</td>\n",
       "      <td>@USER @USER a sicrhau bod mwy o arian poced 'd...</td>\n",
       "      <td>None</td>\n",
       "      <td>None</td>\n",
       "    </tr>\n",
       "    <tr>\n",
       "      <th>1</th>\n",
       "      <td>1</td>\n",
       "      <td>Parti Dolig da gyda tim swyddfa canolog @USER ...</td>\n",
       "      <td>None</td>\n",
       "      <td>None</td>\n",
       "    </tr>\n",
       "    <tr>\n",
       "      <th>2</th>\n",
       "      <td>0</td>\n",
       "      <td>@USER yeaah ma fe yn wir. ( oh well.</td>\n",
       "      <td>None</td>\n",
       "      <td>None</td>\n",
       "    </tr>\n",
       "    <tr>\n",
       "      <th>3</th>\n",
       "      <td>1</td>\n",
       "      <td>@USER hahaha idk. 3am oedd y bws ti?</td>\n",
       "      <td>None</td>\n",
       "      <td>None</td>\n",
       "    </tr>\n",
       "    <tr>\n",
       "      <th>4</th>\n",
       "      <td>0</td>\n",
       "      <td>@USER dwim yn gal llun ohoni?</td>\n",
       "      <td>None</td>\n",
       "      <td>None</td>\n",
       "    </tr>\n",
       "  </tbody>\n",
       "</table>\n",
       "</div>"
      ],
      "text/plain": [
       "   Class                                           Document Sad_emoji  \\\n",
       "0      0  @USER @USER a sicrhau bod mwy o arian poced 'd...      None   \n",
       "1      1  Parti Dolig da gyda tim swyddfa canolog @USER ...      None   \n",
       "2      0               @USER yeaah ma fe yn wir. ( oh well.      None   \n",
       "3      1               @USER hahaha idk. 3am oedd y bws ti?      None   \n",
       "4      0                      @USER dwim yn gal llun ohoni?      None   \n",
       "\n",
       "  Happy_emoji  \n",
       "0        None  \n",
       "1        None  \n",
       "2        None  \n",
       "3        None  \n",
       "4        None  "
      ]
     },
     "execution_count": 4,
     "metadata": {},
     "output_type": "execute_result"
    }
   ],
   "source": [
    "# Add columns for having sad or happy emoji\n",
    "\n",
    "df[\"Sad_emoji\"] = None\n",
    "df[\"Happy_emoji\"] = None\n",
    "df.head()"
   ]
  },
  {
   "cell_type": "code",
   "execution_count": 5,
   "metadata": {},
   "outputs": [],
   "source": [
    "# Defining happy and sad emojis lists\n",
    "\n",
    "happy_emojis = [\"😀\", \"😃\", \"😄\", \"😁\", \"😆\", \"😅\", \"🤣\", \"😂\", \"🙂\", \"😉\", \"😊\", \"😇\", \"🥰\", \"😍\", \"🤩\", \"😘\", \"😗\", \"☺\", \"😚\", \"😙\", \"😋\", \"😛\", \"😜\", \n",
    "\"🤪\", \"😝\", \"🤗\", \"🤠\", \"🥳\", \"😎\", \"😺\", \"😸\", \"😹\", \"😻\", \"♥\", \"❤\", \"💕\", \"💖\", \"💙\", \"💛\", \"🧡\", \"💜\", \"💝\", \"👌\", \"🤟\", \"👊\", \n",
    "\"👍\", \"🤝\", \"🙏\", \"😬\", \"🤤\", \"💋\", \"❣\", \"✌\", \"👏\"]\n",
    "sad_emojis = [\"😐\", \"😶\", \"😑\", \"😒\", \"😔\", \"🤢\", \"🤮\", \"😕\", \"😖\", \"🥺\", \"😫\", \"😞\", \"😭\", \"😟\", \"😓\", \"😩\", \"😢\", \"🙁\", \"😥\", \n",
    "\"😣\", \"☹\", \"😰\", \"😤\", \"😡\", \"🤬\", \"😠\", \"💩\", \"😿\", \"😾\", \"🖤\", \"💔\", \"🖕\", \"👎\", \"🤦\"]"
   ]
  },
  {
   "cell_type": "code",
   "execution_count": 6,
   "metadata": {},
   "outputs": [],
   "source": [
    "# Defining two classes of \"Happy\" and \"Sad\" by emojis\n",
    "\n",
    "Classes = {\"Happy\": happy_emojis, \"Sad\": sad_emojis}"
   ]
  },
  {
   "cell_type": "code",
   "execution_count": 9,
   "metadata": {},
   "outputs": [],
   "source": [
    "# Finding all \"Happy\" and \"Sad\" emojis in documents\n",
    "\n",
    "for i in range(len(df)):\n",
    "    num_sad, num_happy = 0, 0   # Setting emoji counters to 0\n",
    "    for h in range(len(Classes['Happy'])):  # check how many \"Happy\" emojis is in document\n",
    "        if Classes['Happy'][h] in df.loc[i, 'Document']:\n",
    "            num_happy += 1\n",
    "    for s in range(len(Classes['Sad'])):    # # check how many \"Sad\" emojis is in document\n",
    "        if Classes['Sad'][s] in df.loc[i, 'Document']:\n",
    "            num_sad += 1\n",
    "    df.loc[i, 'Happy_emoji'] = num_happy\n",
    "    df.loc[i, 'Sad_emoji'] = num_sad\n",
    "df.head()"
   ]
  },
  {
   "cell_type": "code",
   "execution_count": 17,
   "metadata": {},
   "outputs": [
    {
     "data": {
      "text/html": [
       "<div>\n",
       "<style scoped>\n",
       "    .dataframe tbody tr th:only-of-type {\n",
       "        vertical-align: middle;\n",
       "    }\n",
       "\n",
       "    .dataframe tbody tr th {\n",
       "        vertical-align: top;\n",
       "    }\n",
       "\n",
       "    .dataframe thead th {\n",
       "        text-align: right;\n",
       "    }\n",
       "</style>\n",
       "<table border=\"1\" class=\"dataframe\">\n",
       "  <thead>\n",
       "    <tr style=\"text-align: right;\">\n",
       "      <th></th>\n",
       "      <th>Class</th>\n",
       "      <th>Document</th>\n",
       "      <th>Sad_emoji</th>\n",
       "      <th>Happy_emoji</th>\n",
       "    </tr>\n",
       "  </thead>\n",
       "  <tbody>\n",
       "    <tr>\n",
       "      <th>55</th>\n",
       "      <td>0</td>\n",
       "      <td>Angen byclo fyny a sortio'n hyn allan. Failure 👎</td>\n",
       "      <td>1</td>\n",
       "      <td>0</td>\n",
       "    </tr>\n",
       "    <tr>\n",
       "      <th>64</th>\n",
       "      <td>0</td>\n",
       "      <td>@USER dwi'n shwr bona'm six nations bl nesa ac...</td>\n",
       "      <td>0</td>\n",
       "      <td>1</td>\n",
       "    </tr>\n",
       "    <tr>\n",
       "      <th>120</th>\n",
       "      <td>0</td>\n",
       "      <td>Aros am yr unig 🚌 y dydd a'r bus yn pasio heib...</td>\n",
       "      <td>0</td>\n",
       "      <td>1</td>\n",
       "    </tr>\n",
       "    <tr>\n",
       "      <th>134</th>\n",
       "      <td>1</td>\n",
       "      <td>@USER Os ydy @USER eisiau dod a Mike Phillips ...</td>\n",
       "      <td>0</td>\n",
       "      <td>1</td>\n",
       "    </tr>\n",
       "    <tr>\n",
       "      <th>141</th>\n",
       "      <td>0</td>\n",
       "      <td>@USER dwi ddim ddo, gwir dio babee 😐 😶❤️😘</td>\n",
       "      <td>2</td>\n",
       "      <td>2</td>\n",
       "    </tr>\n",
       "    <tr>\n",
       "      <th>...</th>\n",
       "      <td>...</td>\n",
       "      <td>...</td>\n",
       "      <td>...</td>\n",
       "      <td>...</td>\n",
       "    </tr>\n",
       "    <tr>\n",
       "      <th>79892</th>\n",
       "      <td>0</td>\n",
       "      <td>❤ @USER 🎤🎶 voice of an 😇. 👏👏. Lews weth ei fod...</td>\n",
       "      <td>0</td>\n",
       "      <td>3</td>\n",
       "    </tr>\n",
       "    <tr>\n",
       "      <th>79907</th>\n",
       "      <td>1</td>\n",
       "      <td>Blwyddyn newydd dda! Happy new year! Bliadhna ...</td>\n",
       "      <td>0</td>\n",
       "      <td>1</td>\n",
       "    </tr>\n",
       "    <tr>\n",
       "      <th>79983</th>\n",
       "      <td>1</td>\n",
       "      <td>@USER diolch yn fawr gan pawb yn y tîm Eryl, p...</td>\n",
       "      <td>0</td>\n",
       "      <td>1</td>\n",
       "    </tr>\n",
       "    <tr>\n",
       "      <th>79994</th>\n",
       "      <td>1</td>\n",
       "      <td>Newyddion ffug 😉 #yagym {URL}</td>\n",
       "      <td>0</td>\n",
       "      <td>1</td>\n",
       "    </tr>\n",
       "    <tr>\n",
       "      <th>79998</th>\n",
       "      <td>1</td>\n",
       "      <td>@USER eidiaaaal, awni dydd llun nesa ia? Y air...</td>\n",
       "      <td>0</td>\n",
       "      <td>1</td>\n",
       "    </tr>\n",
       "  </tbody>\n",
       "</table>\n",
       "<p>3136 rows × 4 columns</p>\n",
       "</div>"
      ],
      "text/plain": [
       "       Class                                           Document Sad_emoji  \\\n",
       "55         0   Angen byclo fyny a sortio'n hyn allan. Failure 👎         1   \n",
       "64         0  @USER dwi'n shwr bona'm six nations bl nesa ac...         0   \n",
       "120        0  Aros am yr unig 🚌 y dydd a'r bus yn pasio heib...         0   \n",
       "134        1  @USER Os ydy @USER eisiau dod a Mike Phillips ...         0   \n",
       "141        0          @USER dwi ddim ddo, gwir dio babee 😐 😶❤️😘         2   \n",
       "...      ...                                                ...       ...   \n",
       "79892      0  ❤ @USER 🎤🎶 voice of an 😇. 👏👏. Lews weth ei fod...         0   \n",
       "79907      1  Blwyddyn newydd dda! Happy new year! Bliadhna ...         0   \n",
       "79983      1  @USER diolch yn fawr gan pawb yn y tîm Eryl, p...         0   \n",
       "79994      1                      Newyddion ffug 😉 #yagym {URL}         0   \n",
       "79998      1  @USER eidiaaaal, awni dydd llun nesa ia? Y air...         0   \n",
       "\n",
       "      Happy_emoji  \n",
       "55              0  \n",
       "64              1  \n",
       "120             1  \n",
       "134             1  \n",
       "141             2  \n",
       "...           ...  \n",
       "79892           3  \n",
       "79907           1  \n",
       "79983           1  \n",
       "79994           1  \n",
       "79998           1  \n",
       "\n",
       "[3136 rows x 4 columns]"
      ]
     },
     "execution_count": 17,
     "metadata": {},
     "output_type": "execute_result"
    }
   ],
   "source": [
    "df_clean = df.drop(df[(df.Sad_emoji == 0) & (df.Happy_emoji == 0)].index)\n",
    "df_clean"
   ]
  },
  {
   "cell_type": "code",
   "execution_count": 20,
   "metadata": {},
   "outputs": [
    {
     "data": {
      "text/html": [
       "<div>\n",
       "<style scoped>\n",
       "    .dataframe tbody tr th:only-of-type {\n",
       "        vertical-align: middle;\n",
       "    }\n",
       "\n",
       "    .dataframe tbody tr th {\n",
       "        vertical-align: top;\n",
       "    }\n",
       "\n",
       "    .dataframe thead th {\n",
       "        text-align: right;\n",
       "    }\n",
       "</style>\n",
       "<table border=\"1\" class=\"dataframe\">\n",
       "  <thead>\n",
       "    <tr style=\"text-align: right;\">\n",
       "      <th></th>\n",
       "      <th>Class</th>\n",
       "      <th>Document</th>\n",
       "      <th>Sad_emoji</th>\n",
       "      <th>Happy_emoji</th>\n",
       "    </tr>\n",
       "  </thead>\n",
       "  <tbody>\n",
       "    <tr>\n",
       "      <th>6800</th>\n",
       "      <td>1</td>\n",
       "      <td>@USER moody pants? Comeback a hanner whareteg ...</td>\n",
       "      <td>1</td>\n",
       "      <td>3</td>\n",
       "    </tr>\n",
       "    <tr>\n",
       "      <th>23444</th>\n",
       "      <td>0</td>\n",
       "      <td>“@USER: Haven't seen one of my best friends in...</td>\n",
       "      <td>1</td>\n",
       "      <td>3</td>\n",
       "    </tr>\n",
       "    <tr>\n",
       "      <th>66905</th>\n",
       "      <td>0</td>\n",
       "      <td>@USER @USER app hyn sy da lods o cartoon thing...</td>\n",
       "      <td>1</td>\n",
       "      <td>2</td>\n",
       "    </tr>\n",
       "  </tbody>\n",
       "</table>\n",
       "</div>"
      ],
      "text/plain": [
       "       Class                                           Document Sad_emoji  \\\n",
       "6800       1  @USER moody pants? Comeback a hanner whareteg ...         1   \n",
       "23444      0  “@USER: Haven't seen one of my best friends in...         1   \n",
       "66905      0  @USER @USER app hyn sy da lods o cartoon thing...         1   \n",
       "\n",
       "      Happy_emoji  \n",
       "6800            3  \n",
       "23444           3  \n",
       "66905           2  "
      ]
     },
     "execution_count": 20,
     "metadata": {},
     "output_type": "execute_result"
    }
   ],
   "source": [
    "df_clean[(df_clean['Happy_emoji'] > df_clean['Sad_emoji']) & (df_clean['Sad_emoji'] > 0)]"
   ]
  },
  {
   "cell_type": "code",
   "execution_count": null,
   "metadata": {},
   "outputs": [],
   "source": []
  },
  {
   "cell_type": "code",
   "execution_count": null,
   "metadata": {},
   "outputs": [],
   "source": []
  },
  {
   "cell_type": "code",
   "execution_count": null,
   "metadata": {},
   "outputs": [],
   "source": [
    "# Splitting data to train and test\n",
    "training_data = df.sample(frac=0.8, random_state=42)\n",
    "testing_data = df.drop(training_data.index)"
   ]
  },
  {
   "cell_type": "code",
   "execution_count": null,
   "metadata": {},
   "outputs": [],
   "source": []
  },
  {
   "cell_type": "code",
   "execution_count": null,
   "metadata": {},
   "outputs": [],
   "source": []
  },
  {
   "cell_type": "code",
   "execution_count": null,
   "metadata": {},
   "outputs": [],
   "source": []
  },
  {
   "cell_type": "code",
   "execution_count": null,
   "metadata": {},
   "outputs": [],
   "source": []
  },
  {
   "cell_type": "code",
   "execution_count": null,
   "metadata": {},
   "outputs": [],
   "source": []
  },
  {
   "cell_type": "code",
   "execution_count": null,
   "metadata": {},
   "outputs": [],
   "source": []
  },
  {
   "cell_type": "code",
   "execution_count": null,
   "metadata": {},
   "outputs": [],
   "source": []
  },
  {
   "cell_type": "code",
   "execution_count": null,
   "metadata": {},
   "outputs": [],
   "source": []
  },
  {
   "cell_type": "code",
   "execution_count": null,
   "metadata": {},
   "outputs": [],
   "source": []
  },
  {
   "cell_type": "code",
   "execution_count": null,
   "metadata": {},
   "outputs": [],
   "source": []
  },
  {
   "cell_type": "code",
   "execution_count": 19,
   "metadata": {},
   "outputs": [],
   "source": [
    "from sklearn.model_selection import train_test_split\n",
    "train, test = train_test_split(df , test_size=10000, random_state=42)\n",
    "train, val = train_test_split(train, test_size=10000, random_state=42)"
   ]
  },
  {
   "cell_type": "code",
   "execution_count": 28,
   "metadata": {},
   "outputs": [
    {
     "data": {
      "text/plain": [
       "29982"
      ]
     },
     "execution_count": 28,
     "metadata": {},
     "output_type": "execute_result"
    }
   ],
   "source": []
  },
  {
   "cell_type": "code",
   "execution_count": 23,
   "metadata": {},
   "outputs": [
    {
     "data": {
      "text/plain": [
       "10000"
      ]
     },
     "execution_count": 23,
     "metadata": {},
     "output_type": "execute_result"
    }
   ],
   "source": []
  },
  {
   "cell_type": "code",
   "execution_count": 36,
   "metadata": {},
   "outputs": [],
   "source": []
  },
  {
   "cell_type": "code",
   "execution_count": 37,
   "metadata": {},
   "outputs": [
    {
     "name": "stdout",
     "output_type": "stream",
     "text": [
      "20\n",
      "20\n"
     ]
    }
   ],
   "source": []
  },
  {
   "cell_type": "code",
   "execution_count": 38,
   "metadata": {},
   "outputs": [
    {
     "data": {
      "text/plain": [
       "40"
      ]
     },
     "execution_count": 38,
     "metadata": {},
     "output_type": "execute_result"
    }
   ],
   "source": []
  },
  {
   "cell_type": "code",
   "execution_count": null,
   "metadata": {},
   "outputs": [],
   "source": []
  },
  {
   "cell_type": "code",
   "execution_count": null,
   "metadata": {},
   "outputs": [],
   "source": []
  },
  {
   "cell_type": "code",
   "execution_count": null,
   "metadata": {},
   "outputs": [],
   "source": []
  },
  {
   "cell_type": "code",
   "execution_count": null,
   "metadata": {},
   "outputs": [],
   "source": []
  },
  {
   "cell_type": "code",
   "execution_count": null,
   "metadata": {},
   "outputs": [],
   "source": []
  },
  {
   "cell_type": "code",
   "execution_count": null,
   "metadata": {},
   "outputs": [],
   "source": []
  },
  {
   "cell_type": "code",
   "execution_count": null,
   "metadata": {},
   "outputs": [],
   "source": []
  },
  {
   "cell_type": "code",
   "execution_count": null,
   "metadata": {},
   "outputs": [],
   "source": []
  },
  {
   "cell_type": "code",
   "execution_count": null,
   "metadata": {},
   "outputs": [],
   "source": []
  },
  {
   "cell_type": "code",
   "execution_count": null,
   "metadata": {},
   "outputs": [],
   "source": []
  },
  {
   "cell_type": "code",
   "execution_count": null,
   "metadata": {},
   "outputs": [],
   "source": []
  },
  {
   "cell_type": "code",
   "execution_count": null,
   "metadata": {},
   "outputs": [],
   "source": []
  }
 ],
 "metadata": {
  "kernelspec": {
   "display_name": "Python 3.9.7 ('base')",
   "language": "python",
   "name": "python3"
  },
  "language_info": {
   "codemirror_mode": {
    "name": "ipython",
    "version": 3
   },
   "file_extension": ".py",
   "mimetype": "text/x-python",
   "name": "python",
   "nbconvert_exporter": "python",
   "pygments_lexer": "ipython3",
   "version": "3.9.7"
  },
  "orig_nbformat": 4,
  "vscode": {
   "interpreter": {
    "hash": "9886d89d00ab45e82c8ee75015344ff9f539db9369165debfcbb1d4785acc62d"
   }
  }
 },
 "nbformat": 4,
 "nbformat_minor": 2
}
