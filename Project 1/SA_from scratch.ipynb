{
 "cells": [
  {
   "cell_type": "code",
   "execution_count": 1,
   "metadata": {},
   "outputs": [],
   "source": [
    "# Binary sentiment analysis\n",
    "# The input of the function would be a tweet in the form of string\n",
    "# The output of the function would be either 0 or 1 for negative or positive sentiment, respectively.\n",
    "\n",
    "def predict_from_scratch(tweet):\n",
    "\n",
    "    # Loading libraries\n",
    "    import numpy as np\n",
    "    import pandas as pd\n",
    "    import csv\n",
    "\n",
    "    # Load data\n",
    "    df = pd.read_csv(r\"D:\\SLU\\AI MSc\\Fall 22\\NLP\\train-v2.tsv\", sep=\"\\t\", header=None, quoting = csv.QUOTE_NONE)\n",
    "    \n",
    "    # Rename columns\n",
    "    df.rename(columns={0:\"Label\", 1:\"Document\"}, inplace=True)\n",
    "\n",
    "    # Adding a new column named \"Class\"\n",
    "    df['Class'] = None\n",
    "\n",
    "    # Defining bags of words\n",
    "    bag_of_words = []\n",
    "    positive_bag_of_words = []\n",
    "    negative_bag_of_words = []\n",
    "\n",
    "    # Deviding the dataframe in to psitive and negative classes\n",
    "    df_p = df[df['Label'] == 1]\n",
    "    df_n = df[df['Label'] == 0]\n",
    "\n",
    "    # Bag of words; all words\n",
    "    for i in range(len(df)):\n",
    "        doc = df.loc[i, 'Document']\n",
    "        words_of_doc = doc.split()\n",
    "        bag_of_words += words_of_doc\n",
    "\n",
    "    # Bag of words; in POSITIVE class\n",
    "    for i in range(len(df_p)):\n",
    "        doc = df_p.loc[df_p.index[i], 'Document']\n",
    "        words_of_doc = doc.split()\n",
    "        positive_bag_of_words += words_of_doc\n",
    "\n",
    "    # Bag of words; in NEGATIVE class\n",
    "    for i in range(len(df_n)):\n",
    "        doc = df_n.loc[df_n.index[i], 'Document']\n",
    "        words_of_doc = doc.split()\n",
    "        negative_bag_of_words += words_of_doc\n",
    "\n",
    "    # Finding unique words in each bags of words\n",
    "    unique_words = list(set(bag_of_words))\n",
    "    positive_unique_words = list(set(positive_bag_of_words))\n",
    "    negative_unique_words = list(set(negative_bag_of_words))\n",
    "\n",
    "    # Removing unnecessary words. The list can be updated later\n",
    "    unn_words = ['{URL}', '@USER']\n",
    "    unique_words = [w for w in unique_words if w not in unn_words]\n",
    "    positive_unique_words = [w for w in positive_unique_words if w not in unn_words]\n",
    "    negative_unique_words = [w for w in negative_unique_words if w not in unn_words]\n",
    "\n",
    "    # Calculating prior possibilities for negative and positive classes\n",
    "    num_negative_label = len(df[df['Label'] == 0])\n",
    "    num_positive_label = len(df[df['Label'] == 1])\n",
    "    negative_prior = num_negative_label / len(df)\n",
    "    positive_prior = num_positive_label / len(df)\n",
    "\n",
    "    # List of unique words in \"tweet\"\n",
    "    words_in_tweet = list(set(tweet.split()))\n",
    "\n",
    "    # Setting the initial value \n",
    "    p_tweet_negative = negative_prior\n",
    "    p_tweet_positive = positive_prior\n",
    "\n",
    "    # Calculating the likelihood possibility of each word in \"tweet\" and multiply it by prior possibilities\n",
    "    for i in range(len(words_in_tweet)):\n",
    "\n",
    "        # Selecting words in \"tweet\" one by one\n",
    "        sample = words_in_tweet[i]\n",
    "\n",
    "        # If the word in not in the bag of words, pass it\n",
    "        if sample not in unique_words:\n",
    "            pass\n",
    "\n",
    "        # Frequency of the word in positive and negative bags of words \n",
    "        w_p = positive_bag_of_words.count(sample)\n",
    "        w_n = negative_bag_of_words.count(sample)\n",
    "\n",
    "        # Likelihood possibilities for positive class\n",
    "        p_likelihood_positive = (w_p + 1) / (len(positive_bag_of_words) + len(unique_words))\n",
    "        p_tweet_positive *= p_likelihood_positive\n",
    "\n",
    "        # Likelihood possibilities for negative class\n",
    "        p_likelihood_negative = (w_n + 1) / (len(negative_bag_of_words) + len(unique_words))\n",
    "        p_tweet_negative *= p_likelihood_negative\n",
    "\n",
    "    if p_tweet_positive > p_tweet_negative:\n",
    "        return 1\n",
    "    elif p_tweet_negative > p_tweet_positive:\n",
    "        return 0\n"
   ]
  },
  {
   "cell_type": "code",
   "execution_count": 2,
   "metadata": {},
   "outputs": [
    {
     "data": {
      "text/plain": [
       "1"
      ]
     },
     "execution_count": 2,
     "metadata": {},
     "output_type": "execute_result"
    }
   ],
   "source": [
    "# test\n",
    "predict_from_scratch('@USER Ac i tithau')"
   ]
  }
 ],
 "metadata": {
  "kernelspec": {
   "display_name": "Python 3.10.6 64-bit (windows store)",
   "language": "python",
   "name": "python3"
  },
  "language_info": {
   "codemirror_mode": {
    "name": "ipython",
    "version": 3
   },
   "file_extension": ".py",
   "mimetype": "text/x-python",
   "name": "python",
   "nbconvert_exporter": "python",
   "pygments_lexer": "ipython3",
   "version": "3.10.6"
  },
  "orig_nbformat": 4,
  "vscode": {
   "interpreter": {
    "hash": "5da19df5fc389be667a0a925e668f06bd7bd4471eb51df3625522d83d9fd9ee9"
   }
  }
 },
 "nbformat": 4,
 "nbformat_minor": 2
}
