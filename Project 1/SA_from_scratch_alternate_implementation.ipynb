{
 "cells": [
  {
   "cell_type": "code",
   "execution_count": 20,
   "id": "74aab631",
   "metadata": {},
   "outputs": [],
   "source": [
    "# Binary sentiment analysis\n",
    "# The input of the function would be a tweet in the form of string\n",
    "# The output of the function would be either 0 or 1 for negative or positive sentiment, respectively.\n",
    "# Loading libraries\n",
    "\n",
    "# Load data\n",
    "df = pd.read_csv(r\"train-v2.tsv\", sep=\"\\t\", header=None, quoting = csv.QUOTE_NONE)\n",
    "  \n",
    "# Rename columns\n",
    "df.rename(columns={0:\"Label\", 1:\"Document\"}, inplace=True)\n",
    "\n",
    "# Adding a new column named \"Class\"\n",
    "df['Class'] = None\n",
    "\n",
    "# Defining bags of words\n",
    "bag_of_words = []\n",
    "positive_bag_of_words = []\n",
    "negative_bag_of_words = []\n",
    "\n",
    "# Deviding the dataframe in to psitive and negative classes\n",
    "df_p = df[df['Label'] == 1]\n",
    "df_n = df[df['Label'] == 0]\n",
    "\n",
    "# Bag of words; all words\n",
    "for i in range(len(df)):\n",
    "    doc = df.loc[i, 'Document']\n",
    "    words_of_doc = doc.split()\n",
    "    bag_of_words += words_of_doc\n",
    "\n",
    "# Bag of words; in POSITIVE class\n",
    "for i in range(len(df_p)):\n",
    "    doc = df_p.loc[df_p.index[i], 'Document']\n",
    "    words_of_doc = doc.split()\n",
    "    positive_bag_of_words += words_of_doc\n",
    "\n",
    "# Bag of words; in NEGATIVE class\n",
    "for i in range(len(df_n)):\n",
    "    doc = df_n.loc[df_n.index[i], 'Document']\n",
    "    words_of_doc = doc.split()\n",
    "    negative_bag_of_words += words_of_doc\n",
    "\n",
    "# Finding unique words in each bags of words\n",
    "unique_words = list(set(bag_of_words))\n",
    "positive_unique_words = list(set(positive_bag_of_words))\n",
    "negative_unique_words = list(set(negative_bag_of_words))\n",
    "\n",
    "# Removing unnecessary words. The list can be updated later\n",
    "unn_words = ['{URL}', '@USER']\n",
    "unique_words = [w for w in unique_words if w not in unn_words]\n",
    "positive_unique_words = [w for w in positive_unique_words if w not in unn_words]\n",
    "negative_unique_words = [w for w in negative_unique_words if w not in unn_words]\n",
    "\n",
    "# Calculating prior possibilities for negative and positive classes\n",
    "num_negative_label = len(df[df['Label'] == 0])\n",
    "num_positive_label = len(df[df['Label'] == 1])\n",
    "negative_prior = num_negative_label / len(df)\n",
    "positive_prior = num_positive_label / len(df)\n",
    "\n"
   ]
  },
  {
   "cell_type": "code",
   "execution_count": null,
   "id": "edd50b9c",
   "metadata": {},
   "outputs": [],
   "source": [
    "\n",
    "    "
   ]
  },
  {
   "cell_type": "code",
   "execution_count": 21,
   "id": "362dc396",
   "metadata": {},
   "outputs": [],
   "source": [
    "def predict_from_scratch(words_in_tweet):\n",
    "    p_tweet_positive=1\n",
    "    p_tweet_negative=1\n",
    "    for i in range(len(words_in_tweet)):\n",
    "        # Selecting words in \"tweet\" one by one\n",
    "        sample = words_in_tweet[i]\n",
    "        # If the word in not in the bag of words, pass it\n",
    "        if sample not in unique_words:\n",
    "            pass\n",
    "        # Frequency of the word in positive and negative bags of words \n",
    "        w_p = positive_bag_of_words.count(sample)\n",
    "        w_n = negative_bag_of_words.count(sample)\n",
    "        # Likelihood possibilities for positive class\n",
    "        p_likelihood_positive = (w_p + 1) / (len(positive_bag_of_words) + len(unique_words))\n",
    "        p_tweet_positive *= p_likelihood_positive\n",
    "        # Likelihood possibilities for negative class\n",
    "        p_likelihood_negative = (w_n + 1) / (len(negative_bag_of_words) + len(unique_words))\n",
    "        p_tweet_negative *= p_likelihood_negative\n",
    "    if p_tweet_positive > p_tweet_negative:\n",
    "        return 1\n",
    "    elif p_tweet_negative > p_tweet_positive:\n",
    "        return 0"
   ]
  },
  {
   "cell_type": "code",
   "execution_count": 22,
   "id": "20cc3d23",
   "metadata": {},
   "outputs": [],
   "source": [
    "def evaluate():\n",
    "  total = 0\n",
    "  correct_from_scratch = 0\n",
    "  correct_anything_goes = 0\n",
    "  testfile = open('test.tsv', 'r', encoding=\"utf8\")\n",
    "  for line in testfile:\n",
    "    total += 1\n",
    "    pieces = line.rstrip(\"\\n\").split(\"\\t\")\n",
    "    if predict_from_scratch(pieces[1]) == int(pieces[0]):\n",
    "      correct_from_scratch += 1\n",
    "#    if predict_anything_goes(pieces[1]) == int(pieces[0]):\n",
    "#      correct_anything_goes += 1\n",
    "  print(correct_from_scratch)\n",
    "  print(total)\n",
    "  return (correct_from_scratch/total) #, correct_anything_goes/total)"
   ]
  },
  {
   "cell_type": "code",
   "execution_count": null,
   "id": "2e3bdef8",
   "metadata": {},
   "outputs": [],
   "source": [
    "evaluate()"
   ]
  }
 ],
 "metadata": {
  "kernelspec": {
   "display_name": "Python 3 (ipykernel)",
   "language": "python",
   "name": "python3"
  },
  "language_info": {
   "codemirror_mode": {
    "name": "ipython",
    "version": 3
   },
   "file_extension": ".py",
   "mimetype": "text/x-python",
   "name": "python",
   "nbconvert_exporter": "python",
   "pygments_lexer": "ipython3",
   "version": "3.9.12"
  }
 },
 "nbformat": 4,
 "nbformat_minor": 5
}
