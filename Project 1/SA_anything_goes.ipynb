{
  "cells": [
    {
      "cell_type": "code",
      "execution_count": 1,
      "metadata": {
        "id": "MaYxbMZPrkEu"
      },
      "outputs": [],
      "source": [
        "# Load initial libraries\n",
        "\n",
        "import pandas as pd\n",
        "import numpy as np\n",
        "import csv"
      ]
    },
    {
      "cell_type": "code",
      "execution_count": 36,
      "metadata": {
        "id": "WqzjpaTScz2T"
      },
      "outputs": [],
      "source": [
        "# Load data and reanme columns\n",
        "\n",
        "train = pd.read_csv(\"/content/drive/MyDrive/train-v2.tsv\", sep=\"\\t\", header=None, quoting = csv.QUOTE_NONE)\n",
        "train.rename(columns={0:\"label\", 1:\"sentence\"}, inplace=True)"
      ]
    },
    {
      "cell_type": "code",
      "execution_count": 37,
      "metadata": {
        "id": "zax-l1Wmfufi"
      },
      "outputs": [],
      "source": [
        "# Load test and reanme columns\n",
        "\n",
        "test = pd.read_csv('/content/drive/MyDrive/test.tsv', sep=\"\\t\", header=None, quoting = csv.QUOTE_NONE)\n",
        "test.rename(columns={0:\"label\", 1:\"sentence\"}, inplace=True)"
      ]
    },
    {
      "cell_type": "code",
      "execution_count": null,
      "metadata": {
        "id": "bM9ZOzEHoJOL"
      },
      "outputs": [],
      "source": [
        "# Splitting Xs and ys\n",
        "sentences_test = test['sentence'].values\n",
        "y_test = test['label'].values\n",
        "\n",
        "sentences_train = train['sentence'].values\n",
        "y_train = train['label'].values"
      ]
    },
    {
      "cell_type": "code",
      "execution_count": 38,
      "metadata": {
        "colab": {
          "base_uri": "https://localhost:8080/"
        },
        "id": "pnwlqdoAc0Fp",
        "outputId": "eedafad1-02f5-4b89-b78d-96f1e9266952"
      },
      "outputs": [
        {
          "data": {
            "text/plain": [
              "CountVectorizer(lowercase=False, min_df=2, ngram_range=(1, 2))"
            ]
          },
          "execution_count": 38,
          "metadata": {},
          "output_type": "execute_result"
        }
      ],
      "source": [
        "# Vectorization\n",
        "\n",
        "from sklearn.feature_extraction.text import CountVectorizer\n",
        "vectorizer = CountVectorizer(min_df=2, lowercase=False, ngram_range=(1,2))\n",
        "vectorizer.fit(sentences_train)"
      ]
    },
    {
      "cell_type": "code",
      "execution_count": 41,
      "metadata": {
        "colab": {
          "base_uri": "https://localhost:8080/"
        },
        "id": "DFTb72yjgvsv",
        "outputId": "4b39cb2d-b0db-4989-8783-fc4b740c68dc"
      },
      "outputs": [
        {
          "data": {
            "text/plain": [
              "array([[   1,    1,    4, ...,    0,    0,    0],\n",
              "       [ 659,  332,   28, ...,    0,    0,    0],\n",
              "       [   1, 3651,   11, ...,    0,    0,    0],\n",
              "       ...,\n",
              "       [  41, 1763,   47, ...,    0,    0,    0],\n",
              "       [   1, 2154,   35, ...,    0,    0,    0],\n",
              "       [   1, 1395, 3648, ...,    0,    0,    0]], dtype=int32)"
            ]
          },
          "execution_count": 41,
          "metadata": {},
          "output_type": "execute_result"
        }
      ],
      "source": [
        "# Text tokenize to get vocabulary\n",
        "\n",
        "from keras.preprocessing.text import Tokenizer\n",
        "tokenizer = Tokenizer(num_words=5000)\n",
        "tokenizer.fit_on_texts(sentences_train)\n",
        "X_train = tokenizer.texts_to_sequences(sentences_train)\n",
        "X_test = tokenizer.texts_to_sequences(sentences_test)\n",
        "from keras.preprocessing.sequence import pad_sequences\n",
        "maxlen = 100\n",
        "X_train_pad = pad_sequences(X_train, padding='post', maxlen=maxlen)\n",
        "X_test_pad = pad_sequences(X_test, padding='post', maxlen=maxlen)\n",
        "X_train_pad"
      ]
    },
    {
      "cell_type": "code",
      "execution_count": 42,
      "metadata": {
        "colab": {
          "base_uri": "https://localhost:8080/"
        },
        "id": "CCFrzXVAgvvR",
        "outputId": "b94f7a9b-363e-44d2-fa2c-3a406ded6a70"
      },
      "outputs": [
        {
          "name": "stdout",
          "output_type": "stream",
          "text": [
            "Model: \"sequential_5\"\n",
            "_________________________________________________________________\n",
            " Layer (type)                Output Shape              Param #   \n",
            "=================================================================\n",
            " embedding_5 (Embedding)     (None, 100, 50)           3514750   \n",
            "                                                                 \n",
            " global_max_pooling1d_4 (Glo  (None, 50)               0         \n",
            " balMaxPooling1D)                                                \n",
            "                                                                 \n",
            " dense_11 (Dense)            (None, 100)               5100      \n",
            "                                                                 \n",
            " dropout_1 (Dropout)         (None, 100)               0         \n",
            "                                                                 \n",
            " dense_12 (Dense)            (None, 10)                1010      \n",
            "                                                                 \n",
            " dense_13 (Dense)            (None, 1)                 11        \n",
            "                                                                 \n",
            "=================================================================\n",
            "Total params: 3,520,871\n",
            "Trainable params: 3,520,871\n",
            "Non-trainable params: 0\n",
            "_________________________________________________________________\n"
          ]
        }
      ],
      "source": [
        "# Building deep neural network\n",
        "\n",
        "from keras.models import Sequential\n",
        "from keras.layers import Embedding, Dropout\n",
        "from keras import layers\n",
        "embedding_dim = 50 # embedding size\n",
        "vocab_size = len(tokenizer.word_index) + 1 # addition value 0 for padding\n",
        "model = Sequential()\n",
        "model.add(Embedding(input_dim=vocab_size, output_dim=embedding_dim, input_length=maxlen, embeddings_initializer=None)) \n",
        "model.add(layers.GlobalMaxPool1D())\n",
        "model.add(layers.Dense(100, activation='relu'))\n",
        "model.add(layers.Dropout(0.2))\n",
        "model.add(layers.Dense(10, activation='relu'))\n",
        "model.add(layers.Dense(1, activation='sigmoid'))\n",
        "model.compile(optimizer='adam', loss='binary_crossentropy', metrics=['accuracy'])\n",
        "model.summary()"
      ]
    },
    {
      "cell_type": "code",
      "execution_count": 43,
      "metadata": {
        "colab": {
          "base_uri": "https://localhost:8080/"
        },
        "id": "u7ShV58Jgvx3",
        "outputId": "f20317ec-d4c3-4f14-fa11-ddb4758d7b89"
      },
      "outputs": [
        {
          "name": "stdout",
          "output_type": "stream",
          "text": [
            "Epoch 1/20\n",
            "7200/7200 [==============================] - 36s 5ms/step - loss: 0.5368 - accuracy: 0.7230 - val_loss: 0.4976 - val_accuracy: 0.7536\n",
            "Epoch 2/20\n",
            "7200/7200 [==============================] - 33s 5ms/step - loss: 0.4672 - accuracy: 0.7736 - val_loss: 0.4917 - val_accuracy: 0.7564\n",
            "Epoch 3/20\n",
            "7200/7200 [==============================] - 32s 5ms/step - loss: 0.4291 - accuracy: 0.7960 - val_loss: 0.5000 - val_accuracy: 0.7558\n",
            "Epoch 4/20\n",
            "7200/7200 [==============================] - 33s 5ms/step - loss: 0.3964 - accuracy: 0.8173 - val_loss: 0.5125 - val_accuracy: 0.7539\n",
            "Epoch 5/20\n",
            "7200/7200 [==============================] - 32s 5ms/step - loss: 0.3651 - accuracy: 0.8338 - val_loss: 0.5386 - val_accuracy: 0.7491\n",
            "Epoch 6/20\n",
            "7200/7200 [==============================] - 32s 5ms/step - loss: 0.3354 - accuracy: 0.8488 - val_loss: 0.5541 - val_accuracy: 0.7454\n",
            "Epoch 7/20\n",
            "7200/7200 [==============================] - 34s 5ms/step - loss: 0.3103 - accuracy: 0.8629 - val_loss: 0.5861 - val_accuracy: 0.7369\n",
            "Epoch 8/20\n",
            "7200/7200 [==============================] - 32s 4ms/step - loss: 0.2836 - accuracy: 0.8768 - val_loss: 0.6509 - val_accuracy: 0.7391\n",
            "Epoch 9/20\n",
            "7200/7200 [==============================] - 32s 5ms/step - loss: 0.2605 - accuracy: 0.8874 - val_loss: 0.6844 - val_accuracy: 0.7351\n",
            "Epoch 10/20\n",
            "7200/7200 [==============================] - 32s 5ms/step - loss: 0.2386 - accuracy: 0.8973 - val_loss: 0.7010 - val_accuracy: 0.7283\n",
            "Epoch 11/20\n",
            "7200/7200 [==============================] - 32s 5ms/step - loss: 0.2203 - accuracy: 0.9077 - val_loss: 0.7368 - val_accuracy: 0.7319\n",
            "Epoch 12/20\n",
            "7200/7200 [==============================] - 35s 5ms/step - loss: 0.2037 - accuracy: 0.9150 - val_loss: 0.7762 - val_accuracy: 0.7300\n",
            "Epoch 13/20\n",
            "7200/7200 [==============================] - 32s 4ms/step - loss: 0.1876 - accuracy: 0.9221 - val_loss: 0.9241 - val_accuracy: 0.7308\n",
            "Epoch 14/20\n",
            "7200/7200 [==============================] - 32s 5ms/step - loss: 0.1725 - accuracy: 0.9291 - val_loss: 0.9242 - val_accuracy: 0.7191\n",
            "Epoch 15/20\n",
            "7200/7200 [==============================] - 32s 5ms/step - loss: 0.1617 - accuracy: 0.9329 - val_loss: 0.9502 - val_accuracy: 0.7249\n",
            "Epoch 16/20\n",
            "7200/7200 [==============================] - 33s 5ms/step - loss: 0.1469 - accuracy: 0.9410 - val_loss: 0.9995 - val_accuracy: 0.7200\n",
            "Epoch 17/20\n",
            "7200/7200 [==============================] - 33s 5ms/step - loss: 0.1393 - accuracy: 0.9428 - val_loss: 1.0747 - val_accuracy: 0.7232\n",
            "Epoch 18/20\n",
            "7200/7200 [==============================] - 35s 5ms/step - loss: 0.1280 - accuracy: 0.9484 - val_loss: 1.0139 - val_accuracy: 0.7258\n",
            "Epoch 19/20\n",
            "7200/7200 [==============================] - 33s 5ms/step - loss: 0.1186 - accuracy: 0.9525 - val_loss: 1.2245 - val_accuracy: 0.7170\n",
            "Epoch 20/20\n",
            "7200/7200 [==============================] - 32s 4ms/step - loss: 0.1119 - accuracy: 0.9554 - val_loss: 1.1801 - val_accuracy: 0.7188\n"
          ]
        }
      ],
      "source": [
        "# Fit data on train\n",
        "\n",
        "history = model.fit(X_train_pad, y_train, epochs=20, verbose=True, validation_split=0.1, batch_size=10)"
      ]
    },
    {
      "cell_type": "code",
      "execution_count": 44,
      "metadata": {
        "colab": {
          "base_uri": "https://localhost:8080/"
        },
        "id": "Ezk7wj3Lgv0N",
        "outputId": "002bcbaf-6854-4b8b-d80b-287306ef6e32"
      },
      "outputs": [
        {
          "name": "stdout",
          "output_type": "stream",
          "text": [
            "Training Accuracy: 0.9516\n",
            "Testing Accuracy: 0.8322\n"
          ]
        }
      ],
      "source": [
        "#Evaluate the model on the training and testing set\n",
        "\n",
        "loss, accuracy = model.evaluate(X_train_pad, y_train, verbose=False)\n",
        "print(\"Training Accuracy: {:.4f}\".format(accuracy))\n",
        "loss, accuracy = model.evaluate(X_test_pad, y_test, verbose=False)\n",
        "print(\"Testing Accuracy: {:.4f}\".format(accuracy))"
      ]
    },
    {
      "cell_type": "code",
      "execution_count": 14,
      "metadata": {
        "id": "6cBNPGaxgv26"
      },
      "outputs": [],
      "source": [
        "# Saving the model\n",
        "\n",
        "from tensorflow.keras.models import load_model\n",
        "model.save('SA_anything goes.h5')\n",
        "model = load_model('/content/SA_anything goes.h5')"
      ]
    }
  ],
  "metadata": {
    "accelerator": "GPU",
    "colab": {
      "provenance": []
    },
    "gpuClass": "standard",
    "kernelspec": {
      "display_name": "Python 3",
      "name": "python3"
    },
    "language_info": {
      "name": "python"
    }
  },
  "nbformat": 4,
  "nbformat_minor": 0
}
